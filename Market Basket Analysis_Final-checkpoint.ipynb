{
 "cells": [
  {
   "cell_type": "code",
   "execution_count": 1,
   "metadata": {},
   "outputs": [],
   "source": [
    "#importing the libraries\n",
    "import pandas as pd\n",
    "import numpy as np\n",
    "import matplotlib.pyplot as plt\n",
    "import seaborn as sns"
   ]
  },
  {
   "cell_type": "code",
   "execution_count": 2,
   "metadata": {},
   "outputs": [],
   "source": [
    "# importing the data from the folder\n",
    "data = pd.read_csv(r'C:\\Users\\HARISH\\Desktop\\Project -MSD\\dupdataset.csv')"
   ]
  },
  {
   "cell_type": "code",
   "execution_count": 3,
   "metadata": {},
   "outputs": [
    {
     "data": {
      "text/plain": [
       "(1282718, 9)"
      ]
     },
     "execution_count": 3,
     "metadata": {},
     "output_type": "execute_result"
    }
   ],
   "source": [
    "data.shape"
   ]
  },
  {
   "cell_type": "code",
   "execution_count": 4,
   "metadata": {},
   "outputs": [
    {
     "data": {
      "text/html": [
       "<div>\n",
       "<style scoped>\n",
       "    .dataframe tbody tr th:only-of-type {\n",
       "        vertical-align: middle;\n",
       "    }\n",
       "\n",
       "    .dataframe tbody tr th {\n",
       "        vertical-align: top;\n",
       "    }\n",
       "\n",
       "    .dataframe thead th {\n",
       "        text-align: right;\n",
       "    }\n",
       "</style>\n",
       "<table border=\"1\" class=\"dataframe\">\n",
       "  <thead>\n",
       "    <tr style=\"text-align: right;\">\n",
       "      <th></th>\n",
       "      <th>Unnamed: 0</th>\n",
       "      <th>Date</th>\n",
       "      <th>uuid</th>\n",
       "      <th>userevent</th>\n",
       "      <th>price</th>\n",
       "      <th>product_id</th>\n",
       "      <th>people</th>\n",
       "      <th>category</th>\n",
       "      <th>mainproduct</th>\n",
       "    </tr>\n",
       "  </thead>\n",
       "  <tbody>\n",
       "    <tr>\n",
       "      <th>0</th>\n",
       "      <td>0</td>\n",
       "      <td>2019-01-11</td>\n",
       "      <td>00001bc3-56ef-49d4-8fce-f8114116df40</td>\n",
       "      <td>pageView</td>\n",
       "      <td>199</td>\n",
       "      <td>OG723AC19LNODFMX</td>\n",
       "      <td>men</td>\n",
       "      <td>bags</td>\n",
       "      <td>backpacks</td>\n",
       "    </tr>\n",
       "    <tr>\n",
       "      <th>1</th>\n",
       "      <td>1</td>\n",
       "      <td>2019-01-11</td>\n",
       "      <td>00001bc3-56ef-49d4-8fce-f8114116df40</td>\n",
       "      <td>pageView</td>\n",
       "      <td>249</td>\n",
       "      <td>SA343AC52YEDDFMX</td>\n",
       "      <td>women</td>\n",
       "      <td>bags</td>\n",
       "      <td>others</td>\n",
       "    </tr>\n",
       "    <tr>\n",
       "      <th>2</th>\n",
       "      <td>2</td>\n",
       "      <td>2019-01-11</td>\n",
       "      <td>00001bc3-56ef-49d4-8fce-f8114116df40</td>\n",
       "      <td>pageView</td>\n",
       "      <td>1599</td>\n",
       "      <td>GU531AC85KVQDFMX</td>\n",
       "      <td>women</td>\n",
       "      <td>bags</td>\n",
       "      <td>satchel</td>\n",
       "    </tr>\n",
       "    <tr>\n",
       "      <th>3</th>\n",
       "      <td>3</td>\n",
       "      <td>2019-01-11</td>\n",
       "      <td>00001bc3-56ef-49d4-8fce-f8114116df40</td>\n",
       "      <td>pageView</td>\n",
       "      <td>799</td>\n",
       "      <td>DO528AB41ZBUDFMX</td>\n",
       "      <td>men</td>\n",
       "      <td>bottomwear</td>\n",
       "      <td>pants</td>\n",
       "    </tr>\n",
       "    <tr>\n",
       "      <th>4</th>\n",
       "      <td>4</td>\n",
       "      <td>2019-01-11</td>\n",
       "      <td>00001bc3-56ef-49d4-8fce-f8114116df40</td>\n",
       "      <td>pageView</td>\n",
       "      <td>899</td>\n",
       "      <td>HE249AC65WIODFMX</td>\n",
       "      <td>men</td>\n",
       "      <td>bags</td>\n",
       "      <td>backpacks</td>\n",
       "    </tr>\n",
       "    <tr>\n",
       "      <th>...</th>\n",
       "      <td>...</td>\n",
       "      <td>...</td>\n",
       "      <td>...</td>\n",
       "      <td>...</td>\n",
       "      <td>...</td>\n",
       "      <td>...</td>\n",
       "      <td>...</td>\n",
       "      <td>...</td>\n",
       "      <td>...</td>\n",
       "    </tr>\n",
       "    <tr>\n",
       "      <th>1282713</th>\n",
       "      <td>1314667</td>\n",
       "      <td>2019-01-04</td>\n",
       "      <td>ffff75f8-08a7-47b3-a472-001dfcdb1a2b</td>\n",
       "      <td>pageView</td>\n",
       "      <td>899</td>\n",
       "      <td>RE924AT97EHYDFMX</td>\n",
       "      <td>men</td>\n",
       "      <td>outerwear</td>\n",
       "      <td>jackets</td>\n",
       "    </tr>\n",
       "    <tr>\n",
       "      <th>1282714</th>\n",
       "      <td>1314668</td>\n",
       "      <td>2019-05-04</td>\n",
       "      <td>ffff8823-2145-40b8-a943-ccd5909a5c46</td>\n",
       "      <td>pageView</td>\n",
       "      <td>2499</td>\n",
       "      <td>AD096SH90RUFDFMX</td>\n",
       "      <td>men</td>\n",
       "      <td>shoes</td>\n",
       "      <td>sneakers</td>\n",
       "    </tr>\n",
       "    <tr>\n",
       "      <th>1282715</th>\n",
       "      <td>1314669</td>\n",
       "      <td>2019-03-05</td>\n",
       "      <td>ffff9fc9-9634-4c85-99b7-fba1901d5b29</td>\n",
       "      <td>pageView</td>\n",
       "      <td>299</td>\n",
       "      <td>KA712AT63QEYDFMX</td>\n",
       "      <td>men</td>\n",
       "      <td>activewear</td>\n",
       "      <td>tshirts</td>\n",
       "    </tr>\n",
       "    <tr>\n",
       "      <th>1282716</th>\n",
       "      <td>1314670</td>\n",
       "      <td>2019-03-05</td>\n",
       "      <td>ffff9fc9-9634-4c85-99b7-fba1901d5b29</td>\n",
       "      <td>pageView</td>\n",
       "      <td>299</td>\n",
       "      <td>KA712AT42QFTDFMX</td>\n",
       "      <td>men</td>\n",
       "      <td>activewear</td>\n",
       "      <td>tshirts</td>\n",
       "    </tr>\n",
       "    <tr>\n",
       "      <th>1282717</th>\n",
       "      <td>1314671</td>\n",
       "      <td>2019-01-29</td>\n",
       "      <td>ffffdc8a-5208-4733-9cce-1d764a92550b</td>\n",
       "      <td>pageView</td>\n",
       "      <td>1699</td>\n",
       "      <td>TI778SH72SKHDFMX</td>\n",
       "      <td>women</td>\n",
       "      <td>shoes</td>\n",
       "      <td>boots</td>\n",
       "    </tr>\n",
       "  </tbody>\n",
       "</table>\n",
       "<p>1182100 rows × 9 columns</p>\n",
       "</div>"
      ],
      "text/plain": [
       "         Unnamed: 0        Date                                  uuid  \\\n",
       "0                 0  2019-01-11  00001bc3-56ef-49d4-8fce-f8114116df40   \n",
       "1                 1  2019-01-11  00001bc3-56ef-49d4-8fce-f8114116df40   \n",
       "2                 2  2019-01-11  00001bc3-56ef-49d4-8fce-f8114116df40   \n",
       "3                 3  2019-01-11  00001bc3-56ef-49d4-8fce-f8114116df40   \n",
       "4                 4  2019-01-11  00001bc3-56ef-49d4-8fce-f8114116df40   \n",
       "...             ...         ...                                   ...   \n",
       "1282713     1314667  2019-01-04  ffff75f8-08a7-47b3-a472-001dfcdb1a2b   \n",
       "1282714     1314668  2019-05-04  ffff8823-2145-40b8-a943-ccd5909a5c46   \n",
       "1282715     1314669  2019-03-05  ffff9fc9-9634-4c85-99b7-fba1901d5b29   \n",
       "1282716     1314670  2019-03-05  ffff9fc9-9634-4c85-99b7-fba1901d5b29   \n",
       "1282717     1314671  2019-01-29  ffffdc8a-5208-4733-9cce-1d764a92550b   \n",
       "\n",
       "        userevent  price        product_id people    category mainproduct  \n",
       "0        pageView    199  OG723AC19LNODFMX    men        bags   backpacks  \n",
       "1        pageView    249  SA343AC52YEDDFMX  women        bags      others  \n",
       "2        pageView   1599  GU531AC85KVQDFMX  women        bags     satchel  \n",
       "3        pageView    799  DO528AB41ZBUDFMX    men  bottomwear       pants  \n",
       "4        pageView    899  HE249AC65WIODFMX    men        bags   backpacks  \n",
       "...           ...    ...               ...    ...         ...         ...  \n",
       "1282713  pageView    899  RE924AT97EHYDFMX    men   outerwear     jackets  \n",
       "1282714  pageView   2499  AD096SH90RUFDFMX    men       shoes    sneakers  \n",
       "1282715  pageView    299  KA712AT63QEYDFMX    men  activewear     tshirts  \n",
       "1282716  pageView    299  KA712AT42QFTDFMX    men  activewear     tshirts  \n",
       "1282717  pageView   1699  TI778SH72SKHDFMX  women       shoes       boots  \n",
       "\n",
       "[1182100 rows x 9 columns]"
      ]
     },
     "execution_count": 4,
     "metadata": {},
     "output_type": "execute_result"
    }
   ],
   "source": [
    "data.loc[data['userevent']=='pageView']"
   ]
  },
  {
   "cell_type": "code",
   "execution_count": 5,
   "metadata": {},
   "outputs": [
    {
     "data": {
      "text/html": [
       "<div>\n",
       "<style scoped>\n",
       "    .dataframe tbody tr th:only-of-type {\n",
       "        vertical-align: middle;\n",
       "    }\n",
       "\n",
       "    .dataframe tbody tr th {\n",
       "        vertical-align: top;\n",
       "    }\n",
       "\n",
       "    .dataframe thead th {\n",
       "        text-align: right;\n",
       "    }\n",
       "</style>\n",
       "<table border=\"1\" class=\"dataframe\">\n",
       "  <thead>\n",
       "    <tr style=\"text-align: right;\">\n",
       "      <th></th>\n",
       "      <th>Unnamed: 0</th>\n",
       "      <th>Date</th>\n",
       "      <th>uuid</th>\n",
       "      <th>userevent</th>\n",
       "      <th>price</th>\n",
       "      <th>product_id</th>\n",
       "      <th>people</th>\n",
       "      <th>category</th>\n",
       "      <th>mainproduct</th>\n",
       "    </tr>\n",
       "  </thead>\n",
       "  <tbody>\n",
       "  </tbody>\n",
       "</table>\n",
       "</div>"
      ],
      "text/plain": [
       "Empty DataFrame\n",
       "Columns: [Unnamed: 0, Date, uuid, userevent, price, product_id, people, category, mainproduct]\n",
       "Index: []"
      ]
     },
     "execution_count": 5,
     "metadata": {},
     "output_type": "execute_result"
    }
   ],
   "source": [
    "data.loc[data['mainproduct']=='NaN']"
   ]
  },
  {
   "cell_type": "code",
   "execution_count": 6,
   "metadata": {},
   "outputs": [],
   "source": [
    "data.drop(data.loc[data['userevent']=='pageView'].index, inplace=True)"
   ]
  },
  {
   "cell_type": "code",
   "execution_count": 7,
   "metadata": {},
   "outputs": [
    {
     "data": {
      "text/html": [
       "<div>\n",
       "<style scoped>\n",
       "    .dataframe tbody tr th:only-of-type {\n",
       "        vertical-align: middle;\n",
       "    }\n",
       "\n",
       "    .dataframe tbody tr th {\n",
       "        vertical-align: top;\n",
       "    }\n",
       "\n",
       "    .dataframe thead th {\n",
       "        text-align: right;\n",
       "    }\n",
       "</style>\n",
       "<table border=\"1\" class=\"dataframe\">\n",
       "  <thead>\n",
       "    <tr style=\"text-align: right;\">\n",
       "      <th></th>\n",
       "      <th>Unnamed: 0</th>\n",
       "      <th>Date</th>\n",
       "      <th>uuid</th>\n",
       "      <th>userevent</th>\n",
       "      <th>price</th>\n",
       "      <th>product_id</th>\n",
       "      <th>people</th>\n",
       "      <th>category</th>\n",
       "      <th>mainproduct</th>\n",
       "    </tr>\n",
       "  </thead>\n",
       "  <tbody>\n",
       "  </tbody>\n",
       "</table>\n",
       "</div>"
      ],
      "text/plain": [
       "Empty DataFrame\n",
       "Columns: [Unnamed: 0, Date, uuid, userevent, price, product_id, people, category, mainproduct]\n",
       "Index: []"
      ]
     },
     "execution_count": 7,
     "metadata": {},
     "output_type": "execute_result"
    }
   ],
   "source": [
    "data.loc[data['userevent']=='pageView']"
   ]
  },
  {
   "cell_type": "code",
   "execution_count": 8,
   "metadata": {},
   "outputs": [
    {
     "data": {
      "text/plain": [
       "(100618, 9)"
      ]
     },
     "execution_count": 8,
     "metadata": {},
     "output_type": "execute_result"
    }
   ],
   "source": [
    "data.shape"
   ]
  },
  {
   "cell_type": "code",
   "execution_count": 9,
   "metadata": {},
   "outputs": [],
   "source": [
    "#Removing the rows that has -1\n",
    "new_data = data.drop(['Unnamed: 0'], axis = 1)"
   ]
  },
  {
   "cell_type": "code",
   "execution_count": 10,
   "metadata": {},
   "outputs": [
    {
     "data": {
      "text/html": [
       "<div>\n",
       "<style scoped>\n",
       "    .dataframe tbody tr th:only-of-type {\n",
       "        vertical-align: middle;\n",
       "    }\n",
       "\n",
       "    .dataframe tbody tr th {\n",
       "        vertical-align: top;\n",
       "    }\n",
       "\n",
       "    .dataframe thead th {\n",
       "        text-align: right;\n",
       "    }\n",
       "</style>\n",
       "<table border=\"1\" class=\"dataframe\">\n",
       "  <thead>\n",
       "    <tr style=\"text-align: right;\">\n",
       "      <th></th>\n",
       "      <th>Date</th>\n",
       "      <th>uuid</th>\n",
       "      <th>userevent</th>\n",
       "      <th>price</th>\n",
       "      <th>product_id</th>\n",
       "      <th>people</th>\n",
       "      <th>category</th>\n",
       "      <th>mainproduct</th>\n",
       "    </tr>\n",
       "  </thead>\n",
       "  <tbody>\n",
       "    <tr>\n",
       "      <th>15</th>\n",
       "      <td>2019-03-13</td>\n",
       "      <td>0001908b-a639-41f7-86ff-b200d07a5120</td>\n",
       "      <td>addToCart</td>\n",
       "      <td>416</td>\n",
       "      <td>DO528AB46RSBDFMX</td>\n",
       "      <td>men</td>\n",
       "      <td>bottomwear</td>\n",
       "      <td>pants</td>\n",
       "    </tr>\n",
       "    <tr>\n",
       "      <th>16</th>\n",
       "      <td>2019-05-02</td>\n",
       "      <td>0001908b-a639-41f7-86ff-b200d07a5120</td>\n",
       "      <td>addToCart</td>\n",
       "      <td>499</td>\n",
       "      <td>LE063AB25EHUDFMX</td>\n",
       "      <td>men</td>\n",
       "      <td>bottomwear</td>\n",
       "      <td>jeans</td>\n",
       "    </tr>\n",
       "    <tr>\n",
       "      <th>17</th>\n",
       "      <td>2019-03-13</td>\n",
       "      <td>0001908b-a639-41f7-86ff-b200d07a5120</td>\n",
       "      <td>addToCart</td>\n",
       "      <td>333</td>\n",
       "      <td>OG723AB10RAFDFMX</td>\n",
       "      <td>men</td>\n",
       "      <td>bottomwear</td>\n",
       "      <td>jeans</td>\n",
       "    </tr>\n",
       "    <tr>\n",
       "      <th>42</th>\n",
       "      <td>2019-05-28</td>\n",
       "      <td>0003ab20-cfa0-4df0-9035-d10ea0348367</td>\n",
       "      <td>addToCart</td>\n",
       "      <td>599</td>\n",
       "      <td>FI004SH71OTCDFMX</td>\n",
       "      <td>women</td>\n",
       "      <td>shoes</td>\n",
       "      <td>sneakers</td>\n",
       "    </tr>\n",
       "    <tr>\n",
       "      <th>88</th>\n",
       "      <td>2019-05-25</td>\n",
       "      <td>00067485-65e0-478e-9839-b85d025a10f1</td>\n",
       "      <td>addToCart</td>\n",
       "      <td>299</td>\n",
       "      <td>DO528AB62OPPDFMX</td>\n",
       "      <td>women</td>\n",
       "      <td>bottomwear</td>\n",
       "      <td>pants</td>\n",
       "    </tr>\n",
       "  </tbody>\n",
       "</table>\n",
       "</div>"
      ],
      "text/plain": [
       "          Date                                  uuid  userevent  price  \\\n",
       "15  2019-03-13  0001908b-a639-41f7-86ff-b200d07a5120  addToCart    416   \n",
       "16  2019-05-02  0001908b-a639-41f7-86ff-b200d07a5120  addToCart    499   \n",
       "17  2019-03-13  0001908b-a639-41f7-86ff-b200d07a5120  addToCart    333   \n",
       "42  2019-05-28  0003ab20-cfa0-4df0-9035-d10ea0348367  addToCart    599   \n",
       "88  2019-05-25  00067485-65e0-478e-9839-b85d025a10f1  addToCart    299   \n",
       "\n",
       "          product_id people    category mainproduct  \n",
       "15  DO528AB46RSBDFMX    men  bottomwear       pants  \n",
       "16  LE063AB25EHUDFMX    men  bottomwear       jeans  \n",
       "17  OG723AB10RAFDFMX    men  bottomwear       jeans  \n",
       "42  FI004SH71OTCDFMX  women       shoes    sneakers  \n",
       "88  DO528AB62OPPDFMX  women  bottomwear       pants  "
      ]
     },
     "execution_count": 10,
     "metadata": {},
     "output_type": "execute_result"
    }
   ],
   "source": [
    "new_data.head()"
   ]
  },
  {
   "cell_type": "code",
   "execution_count": 11,
   "metadata": {},
   "outputs": [
    {
     "data": {
      "text/plain": [
       "(100618, 8)"
      ]
     },
     "execution_count": 11,
     "metadata": {},
     "output_type": "execute_result"
    }
   ],
   "source": [
    "new_data.shape"
   ]
  },
  {
   "cell_type": "code",
   "execution_count": 12,
   "metadata": {},
   "outputs": [],
   "source": [
    "df_out = new_data.groupby('uuid')['category'].apply(set)"
   ]
  },
  {
   "cell_type": "code",
   "execution_count": 13,
   "metadata": {},
   "outputs": [
    {
     "data": {
      "text/html": [
       "<div>\n",
       "<style scoped>\n",
       "    .dataframe tbody tr th:only-of-type {\n",
       "        vertical-align: middle;\n",
       "    }\n",
       "\n",
       "    .dataframe tbody tr th {\n",
       "        vertical-align: top;\n",
       "    }\n",
       "\n",
       "    .dataframe thead th {\n",
       "        text-align: right;\n",
       "    }\n",
       "</style>\n",
       "<table border=\"1\" class=\"dataframe\">\n",
       "  <thead>\n",
       "    <tr style=\"text-align: right;\">\n",
       "      <th></th>\n",
       "      <th>category</th>\n",
       "    </tr>\n",
       "    <tr>\n",
       "      <th>uuid</th>\n",
       "      <th></th>\n",
       "    </tr>\n",
       "  </thead>\n",
       "  <tbody>\n",
       "    <tr>\n",
       "      <th>0001908b-a639-41f7-86ff-b200d07a5120</th>\n",
       "      <td>{bottomwear}</td>\n",
       "    </tr>\n",
       "    <tr>\n",
       "      <th>0003ab20-cfa0-4df0-9035-d10ea0348367</th>\n",
       "      <td>{shoes}</td>\n",
       "    </tr>\n",
       "    <tr>\n",
       "      <th>00067485-65e0-478e-9839-b85d025a10f1</th>\n",
       "      <td>{bottomwear, topwear}</td>\n",
       "    </tr>\n",
       "    <tr>\n",
       "      <th>0009e0c6-162e-42f8-8a78-70c648cc8911</th>\n",
       "      <td>{bottomwear}</td>\n",
       "    </tr>\n",
       "    <tr>\n",
       "      <th>000c5691-ba0d-4008-8f15-b1b303397565</th>\n",
       "      <td>{shoes}</td>\n",
       "    </tr>\n",
       "    <tr>\n",
       "      <th>...</th>\n",
       "      <td>...</td>\n",
       "    </tr>\n",
       "    <tr>\n",
       "      <th>fffc5f57-0c18-4bbf-9ee3-ce8f66de42b3</th>\n",
       "      <td>{topwear}</td>\n",
       "    </tr>\n",
       "    <tr>\n",
       "      <th>fffd64f4-419d-4827-9aa0-752da076f1bc</th>\n",
       "      <td>{topwear}</td>\n",
       "    </tr>\n",
       "    <tr>\n",
       "      <th>fffe3bc5-c9f3-4f43-a852-987f49125f82</th>\n",
       "      <td>{bags}</td>\n",
       "    </tr>\n",
       "    <tr>\n",
       "      <th>fffef68a-412d-41a6-8219-08a0df039d49</th>\n",
       "      <td>{outerwear, topwear}</td>\n",
       "    </tr>\n",
       "    <tr>\n",
       "      <th>ffff0020-db7e-428b-bcd5-ae6732119b6a</th>\n",
       "      <td>{shoes}</td>\n",
       "    </tr>\n",
       "  </tbody>\n",
       "</table>\n",
       "<p>37547 rows × 1 columns</p>\n",
       "</div>"
      ],
      "text/plain": [
       "                                                   category\n",
       "uuid                                                       \n",
       "0001908b-a639-41f7-86ff-b200d07a5120           {bottomwear}\n",
       "0003ab20-cfa0-4df0-9035-d10ea0348367                {shoes}\n",
       "00067485-65e0-478e-9839-b85d025a10f1  {bottomwear, topwear}\n",
       "0009e0c6-162e-42f8-8a78-70c648cc8911           {bottomwear}\n",
       "000c5691-ba0d-4008-8f15-b1b303397565                {shoes}\n",
       "...                                                     ...\n",
       "fffc5f57-0c18-4bbf-9ee3-ce8f66de42b3              {topwear}\n",
       "fffd64f4-419d-4827-9aa0-752da076f1bc              {topwear}\n",
       "fffe3bc5-c9f3-4f43-a852-987f49125f82                 {bags}\n",
       "fffef68a-412d-41a6-8219-08a0df039d49   {outerwear, topwear}\n",
       "ffff0020-db7e-428b-bcd5-ae6732119b6a                {shoes}\n",
       "\n",
       "[37547 rows x 1 columns]"
      ]
     },
     "execution_count": 13,
     "metadata": {},
     "output_type": "execute_result"
    }
   ],
   "source": [
    "df_out.to_frame()"
   ]
  },
  {
   "cell_type": "code",
   "execution_count": 16,
   "metadata": {},
   "outputs": [],
   "source": [
    "#df_out.to_csv(r'C:\\Users\\HARISH\\Desktop\\Project -MSD\\newcatdataset.csv')"
   ]
  },
  {
   "cell_type": "code",
   "execution_count": 14,
   "metadata": {},
   "outputs": [],
   "source": [
    "df_prod = new_data.groupby('uuid')['mainproduct'].apply(set)"
   ]
  },
  {
   "cell_type": "code",
   "execution_count": 15,
   "metadata": {},
   "outputs": [
    {
     "data": {
      "text/html": [
       "<div>\n",
       "<style scoped>\n",
       "    .dataframe tbody tr th:only-of-type {\n",
       "        vertical-align: middle;\n",
       "    }\n",
       "\n",
       "    .dataframe tbody tr th {\n",
       "        vertical-align: top;\n",
       "    }\n",
       "\n",
       "    .dataframe thead th {\n",
       "        text-align: right;\n",
       "    }\n",
       "</style>\n",
       "<table border=\"1\" class=\"dataframe\">\n",
       "  <thead>\n",
       "    <tr style=\"text-align: right;\">\n",
       "      <th></th>\n",
       "      <th>mainproduct</th>\n",
       "    </tr>\n",
       "    <tr>\n",
       "      <th>uuid</th>\n",
       "      <th></th>\n",
       "    </tr>\n",
       "  </thead>\n",
       "  <tbody>\n",
       "    <tr>\n",
       "      <th>0001908b-a639-41f7-86ff-b200d07a5120</th>\n",
       "      <td>{pants, jeans}</td>\n",
       "    </tr>\n",
       "    <tr>\n",
       "      <th>0003ab20-cfa0-4df0-9035-d10ea0348367</th>\n",
       "      <td>{sneakers}</td>\n",
       "    </tr>\n",
       "    <tr>\n",
       "      <th>00067485-65e0-478e-9839-b85d025a10f1</th>\n",
       "      <td>{blouses, pants}</td>\n",
       "    </tr>\n",
       "    <tr>\n",
       "      <th>0009e0c6-162e-42f8-8a78-70c648cc8911</th>\n",
       "      <td>{jeans}</td>\n",
       "    </tr>\n",
       "    <tr>\n",
       "      <th>000c5691-ba0d-4008-8f15-b1b303397565</th>\n",
       "      <td>{sneakers}</td>\n",
       "    </tr>\n",
       "    <tr>\n",
       "      <th>...</th>\n",
       "      <td>...</td>\n",
       "    </tr>\n",
       "    <tr>\n",
       "      <th>fffc5f57-0c18-4bbf-9ee3-ce8f66de42b3</th>\n",
       "      <td>{tshirts}</td>\n",
       "    </tr>\n",
       "    <tr>\n",
       "      <th>fffd64f4-419d-4827-9aa0-752da076f1bc</th>\n",
       "      <td>{tshirts}</td>\n",
       "    </tr>\n",
       "    <tr>\n",
       "      <th>fffe3bc5-c9f3-4f43-a852-987f49125f82</th>\n",
       "      <td>{totes}</td>\n",
       "    </tr>\n",
       "    <tr>\n",
       "      <th>fffef68a-412d-41a6-8219-08a0df039d49</th>\n",
       "      <td>{denim_jacket, tshirts}</td>\n",
       "    </tr>\n",
       "    <tr>\n",
       "      <th>ffff0020-db7e-428b-bcd5-ae6732119b6a</th>\n",
       "      <td>{sandals}</td>\n",
       "    </tr>\n",
       "  </tbody>\n",
       "</table>\n",
       "<p>37547 rows × 1 columns</p>\n",
       "</div>"
      ],
      "text/plain": [
       "                                                  mainproduct\n",
       "uuid                                                         \n",
       "0001908b-a639-41f7-86ff-b200d07a5120           {pants, jeans}\n",
       "0003ab20-cfa0-4df0-9035-d10ea0348367               {sneakers}\n",
       "00067485-65e0-478e-9839-b85d025a10f1         {blouses, pants}\n",
       "0009e0c6-162e-42f8-8a78-70c648cc8911                  {jeans}\n",
       "000c5691-ba0d-4008-8f15-b1b303397565               {sneakers}\n",
       "...                                                       ...\n",
       "fffc5f57-0c18-4bbf-9ee3-ce8f66de42b3                {tshirts}\n",
       "fffd64f4-419d-4827-9aa0-752da076f1bc                {tshirts}\n",
       "fffe3bc5-c9f3-4f43-a852-987f49125f82                  {totes}\n",
       "fffef68a-412d-41a6-8219-08a0df039d49  {denim_jacket, tshirts}\n",
       "ffff0020-db7e-428b-bcd5-ae6732119b6a                {sandals}\n",
       "\n",
       "[37547 rows x 1 columns]"
      ]
     },
     "execution_count": 15,
     "metadata": {},
     "output_type": "execute_result"
    }
   ],
   "source": [
    "df_prod.to_frame()"
   ]
  },
  {
   "cell_type": "code",
   "execution_count": 16,
   "metadata": {},
   "outputs": [],
   "source": [
    "df_prod.to_csv(r'C:\\Users\\HARISH\\Desktop\\Project -MSD\\finalproddataset.csv')"
   ]
  },
  {
   "cell_type": "code",
   "execution_count": 3,
   "metadata": {},
   "outputs": [],
   "source": []
  },
  {
   "cell_type": "code",
   "execution_count": null,
   "metadata": {},
   "outputs": [],
   "source": []
  }
 ],
 "metadata": {
  "kernelspec": {
   "display_name": "Python 3",
   "language": "python",
   "name": "python3"
  },
  "language_info": {
   "codemirror_mode": {
    "name": "ipython",
    "version": 3
   },
   "file_extension": ".py",
   "mimetype": "text/x-python",
   "name": "python",
   "nbconvert_exporter": "python",
   "pygments_lexer": "ipython3",
   "version": "3.7.6"
  }
 },
 "nbformat": 4,
 "nbformat_minor": 4
}
